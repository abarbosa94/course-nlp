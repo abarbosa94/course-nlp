{
  "nbformat": 4,
  "nbformat_minor": 0,
  "metadata": {
    "jekyll": {
      "keywords": "fastai",
      "summary": "Application to NLP, including ULMFiT fine-tuning",
      "title": "text"
    },
    "kernelspec": {
      "name": "python3",
      "display_name": "Python 3"
    },
    "language_info": {
      "codemirror_mode": {
        "name": "ipython",
        "version": 3
      },
      "file_extension": ".py",
      "mimetype": "text/x-python",
      "name": "python",
      "nbconvert_exporter": "python",
      "pygments_lexer": "ipython3",
      "version": "3.7.1"
    },
    "colab": {
      "name": "review-nlp-transfer.ipynb",
      "version": "0.3.2",
      "provenance": []
    },
    "accelerator": "GPU"
  },
  "cells": [
    {
      "cell_type": "markdown",
      "metadata": {
        "id": "3Hvreq5xhwu3",
        "colab_type": "text"
      },
      "source": [
        "## Quick Start: Training an IMDb sentiment model with *ULMFiT*"
      ]
    },
    {
      "cell_type": "markdown",
      "metadata": {
        "id": "2nFgzUdhhwu6",
        "colab_type": "text"
      },
      "source": [
        "Let's start with a quick end-to-end example of training a model. We'll train a sentiment classifier on a sample of the popular IMDb data, showing 4 steps:\n",
        "\n",
        "1. Reading and viewing the IMDb data\n",
        "1. Getting your data ready for modeling\n",
        "1. Fine-tuning a language model\n",
        "1. Building a classifier"
      ]
    },
    {
      "cell_type": "code",
      "metadata": {
        "id": "ShrMEwY3ipFB",
        "colab_type": "code",
        "colab": {
          "base_uri": "https://localhost:8080/",
          "height": 306
        },
        "outputId": "82837160-a3b3-4543-959a-1371b1b3e6ac"
      },
      "source": [
        "!nvidia-smi"
      ],
      "execution_count": 1,
      "outputs": [
        {
          "output_type": "stream",
          "text": [
            "Sat Aug 24 21:41:29 2019       \n",
            "+-----------------------------------------------------------------------------+\n",
            "| NVIDIA-SMI 430.40       Driver Version: 418.67       CUDA Version: 10.1     |\n",
            "|-------------------------------+----------------------+----------------------+\n",
            "| GPU  Name        Persistence-M| Bus-Id        Disp.A | Volatile Uncorr. ECC |\n",
            "| Fan  Temp  Perf  Pwr:Usage/Cap|         Memory-Usage | GPU-Util  Compute M. |\n",
            "|===============================+======================+======================|\n",
            "|   0  Tesla T4            Off  | 00000000:00:04.0 Off |                    0 |\n",
            "| N/A   71C    P8    31W /  70W |      0MiB / 15079MiB |      0%      Default |\n",
            "+-------------------------------+----------------------+----------------------+\n",
            "                                                                               \n",
            "+-----------------------------------------------------------------------------+\n",
            "| Processes:                                                       GPU Memory |\n",
            "|  GPU       PID   Type   Process name                             Usage      |\n",
            "|=============================================================================|\n",
            "|  No running processes found                                                 |\n",
            "+-----------------------------------------------------------------------------+\n"
          ],
          "name": "stdout"
        }
      ]
    },
    {
      "cell_type": "code",
      "metadata": {
        "id": "ikkP6nD9hwu7",
        "colab_type": "code",
        "colab": {}
      },
      "source": [
        "from fastai.text import * "
      ],
      "execution_count": 0,
      "outputs": []
    },
    {
      "cell_type": "markdown",
      "metadata": {
        "id": "KOCjvsvmhwu-",
        "colab_type": "text"
      },
      "source": [
        "Contrary to images in Computer Vision, text can't directly be transformed into numbers to be fed into a model. The first thing we need to do is to preprocess our data so that we change the raw texts to lists of words, or tokens (a step that is called tokenization) then transform these tokens into numbers (a step that is called numericalization). These numbers are then passed to embedding layers that will convert them in arrays of floats before passing them through a model.\n",
        "\n",
        "Steps:\n",
        "\n",
        "1. Get your data preprocessed and ready to use,\n",
        "1. Create a language model with pretrained weights that you can fine-tune to your dataset,\n",
        "1. Create other models such as classifiers on top of the encoder of the language model.\n",
        "\n",
        "To show examples, we have provided a small sample of the [IMDB dataset](https://www.imdb.com/interfaces/) which contains 1,000 reviews of movies with labels (positive or negative)."
      ]
    },
    {
      "cell_type": "code",
      "metadata": {
        "id": "t308loGFhwu_",
        "colab_type": "code",
        "colab": {}
      },
      "source": [
        "path = untar_data(URLs.IMDB_SAMPLE)"
      ],
      "execution_count": 0,
      "outputs": []
    },
    {
      "cell_type": "code",
      "metadata": {
        "id": "tDuaXmcrhwvC",
        "colab_type": "code",
        "colab": {
          "base_uri": "https://localhost:8080/",
          "height": 204
        },
        "outputId": "0aae163e-4116-4b91-f54d-e566341b4e8d"
      },
      "source": [
        "df = pd.read_csv(path/'texts.csv')\n",
        "df.head()"
      ],
      "execution_count": 4,
      "outputs": [
        {
          "output_type": "execute_result",
          "data": {
            "text/html": [
              "<div>\n",
              "<style scoped>\n",
              "    .dataframe tbody tr th:only-of-type {\n",
              "        vertical-align: middle;\n",
              "    }\n",
              "\n",
              "    .dataframe tbody tr th {\n",
              "        vertical-align: top;\n",
              "    }\n",
              "\n",
              "    .dataframe thead th {\n",
              "        text-align: right;\n",
              "    }\n",
              "</style>\n",
              "<table border=\"1\" class=\"dataframe\">\n",
              "  <thead>\n",
              "    <tr style=\"text-align: right;\">\n",
              "      <th></th>\n",
              "      <th>label</th>\n",
              "      <th>text</th>\n",
              "      <th>is_valid</th>\n",
              "    </tr>\n",
              "  </thead>\n",
              "  <tbody>\n",
              "    <tr>\n",
              "      <th>0</th>\n",
              "      <td>negative</td>\n",
              "      <td>Un-bleeping-believable! Meg Ryan doesn't even ...</td>\n",
              "      <td>False</td>\n",
              "    </tr>\n",
              "    <tr>\n",
              "      <th>1</th>\n",
              "      <td>positive</td>\n",
              "      <td>This is a extremely well-made film. The acting...</td>\n",
              "      <td>False</td>\n",
              "    </tr>\n",
              "    <tr>\n",
              "      <th>2</th>\n",
              "      <td>negative</td>\n",
              "      <td>Every once in a long while a movie will come a...</td>\n",
              "      <td>False</td>\n",
              "    </tr>\n",
              "    <tr>\n",
              "      <th>3</th>\n",
              "      <td>positive</td>\n",
              "      <td>Name just says it all. I watched this movie wi...</td>\n",
              "      <td>False</td>\n",
              "    </tr>\n",
              "    <tr>\n",
              "      <th>4</th>\n",
              "      <td>negative</td>\n",
              "      <td>This movie succeeds at being one of the most u...</td>\n",
              "      <td>False</td>\n",
              "    </tr>\n",
              "  </tbody>\n",
              "</table>\n",
              "</div>"
            ],
            "text/plain": [
              "      label                                               text  is_valid\n",
              "0  negative  Un-bleeping-believable! Meg Ryan doesn't even ...     False\n",
              "1  positive  This is a extremely well-made film. The acting...     False\n",
              "2  negative  Every once in a long while a movie will come a...     False\n",
              "3  positive  Name just says it all. I watched this movie wi...     False\n",
              "4  negative  This movie succeeds at being one of the most u...     False"
            ]
          },
          "metadata": {
            "tags": []
          },
          "execution_count": 4
        }
      ]
    },
    {
      "cell_type": "code",
      "metadata": {
        "id": "1ID-uU2JhwvG",
        "colab_type": "code",
        "colab": {}
      },
      "source": [
        "data_lm = TextLMDataBunch.from_csv(path, 'texts.csv')\n",
        "data_clas = TextClasDataBunch.from_csv(path, 'texts.csv', vocab=data_lm.train_ds.vocab, bs=32)"
      ],
      "execution_count": 0,
      "outputs": []
    },
    {
      "cell_type": "code",
      "metadata": {
        "id": "d36EiafEhwvI",
        "colab_type": "code",
        "colab": {}
      },
      "source": [
        "data_lm.save('data_lm_export.pkl')\n",
        "data_clas.save('data_clas_export.pkl')"
      ],
      "execution_count": 0,
      "outputs": []
    },
    {
      "cell_type": "code",
      "metadata": {
        "id": "Qw2OaxcChwvL",
        "colab_type": "code",
        "colab": {}
      },
      "source": [
        "bs=48"
      ],
      "execution_count": 0,
      "outputs": []
    },
    {
      "cell_type": "code",
      "metadata": {
        "id": "VUfi4clHhwvP",
        "colab_type": "code",
        "colab": {}
      },
      "source": [
        "data_lm = load_data(path, 'data_lm_export.pkl', bs=bs)\n",
        "data_clas = load_data(path, 'data_clas_export.pkl', bs=bs)"
      ],
      "execution_count": 0,
      "outputs": []
    },
    {
      "cell_type": "markdown",
      "metadata": {
        "id": "slx3imfAhwvS",
        "colab_type": "text"
      },
      "source": [
        "Note that you can load the data with different [`DataBunch`](/basic_data.html#DataBunch) parameters (batch size, `bptt`,...)"
      ]
    },
    {
      "cell_type": "markdown",
      "metadata": {
        "id": "TMmLiC1IhwvT",
        "colab_type": "text"
      },
      "source": [
        "### Fine-tuning a language model"
      ]
    },
    {
      "cell_type": "markdown",
      "metadata": {
        "id": "CiSSUYbBhwvU",
        "colab_type": "text"
      },
      "source": [
        "**self note: Language Model predicts the next word in a sentence\n",
        "\n",
        "\n",
        "We can use the `data_lm` object we created earlier to fine-tune a pretrained language model. [fast.ai](http://www.fast.ai/) has an English model with an AWD-LSTM architecture available that we can download. We can create a learner object that will directly create a model, download the pretrained weights and be ready for fine-tuning."
      ]
    },
    {
      "cell_type": "code",
      "metadata": {
        "id": "8dCYUsHqhwvV",
        "colab_type": "code",
        "colab": {}
      },
      "source": [
        "torch.cuda.set_device(0)"
      ],
      "execution_count": 0,
      "outputs": []
    },
    {
      "cell_type": "code",
      "metadata": {
        "id": "g5q0owbfhwvX",
        "colab_type": "code",
        "colab": {
          "base_uri": "https://localhost:8080/",
          "height": 80
        },
        "outputId": "b38187e3-edf2-4683-ab5a-df27ddb43e33"
      },
      "source": [
        "learn = language_model_learner(data_lm, AWD_LSTM, drop_mult=0.5)\n",
        "learn.fit_one_cycle(1, 1e-2)"
      ],
      "execution_count": 10,
      "outputs": [
        {
          "output_type": "display_data",
          "data": {
            "text/html": [
              "<table border=\"1\" class=\"dataframe\">\n",
              "  <thead>\n",
              "    <tr style=\"text-align: left;\">\n",
              "      <th>epoch</th>\n",
              "      <th>train_loss</th>\n",
              "      <th>valid_loss</th>\n",
              "      <th>accuracy</th>\n",
              "      <th>time</th>\n",
              "    </tr>\n",
              "  </thead>\n",
              "  <tbody>\n",
              "    <tr>\n",
              "      <td>0</td>\n",
              "      <td>4.320487</td>\n",
              "      <td>3.916419</td>\n",
              "      <td>0.283080</td>\n",
              "      <td>00:13</td>\n",
              "    </tr>\n",
              "  </tbody>\n",
              "</table>"
            ],
            "text/plain": [
              "<IPython.core.display.HTML object>"
            ]
          },
          "metadata": {
            "tags": []
          }
        }
      ]
    },
    {
      "cell_type": "code",
      "metadata": {
        "id": "bvWx9hethwva",
        "colab_type": "code",
        "colab": {}
      },
      "source": [
        "language_model_learner??"
      ],
      "execution_count": 0,
      "outputs": []
    },
    {
      "cell_type": "code",
      "metadata": {
        "id": "R2Fa5WTChwvd",
        "colab_type": "code",
        "colab": {}
      },
      "source": [
        "learn.load_pretrained??"
      ],
      "execution_count": 0,
      "outputs": []
    },
    {
      "cell_type": "code",
      "metadata": {
        "id": "9AUsiyaGhwvf",
        "colab_type": "code",
        "colab": {}
      },
      "source": [
        "convert_weights??"
      ],
      "execution_count": 0,
      "outputs": []
    },
    {
      "cell_type": "markdown",
      "metadata": {
        "id": "J7hpIfL_hwvh",
        "colab_type": "text"
      },
      "source": [
        "You can use [Visual Studio Code](https://code.visualstudio.com/) (vscode - open source editor that comes with recent versions of Anaconda, or can be installed separately), or most editors and IDEs, to browse code. vscode things to know:\n",
        "\n",
        "- Command palette (<kbd>Ctrl-shift-p</kbd>)\n",
        "- Go to symbol (<kbd>Ctrl-t</kbd>)\n",
        "- Find references (<kbd>Shift-F12</kbd>)\n",
        "- Go to definition (<kbd>F12</kbd>)\n",
        "- Go back (<kbd>alt-left</kbd>)\n",
        "- View documentation\n",
        "- Hide sidebar (<kbd>Ctrl-b</kbd>)\n",
        "- Zen mode (<kbd>Ctrl-k,z</kbd>)"
      ]
    },
    {
      "cell_type": "markdown",
      "metadata": {
        "id": "hCQE2qpjhwvi",
        "colab_type": "text"
      },
      "source": [
        "Like a computer vision model, we can then unfreeze the model and fine-tune it."
      ]
    },
    {
      "cell_type": "code",
      "metadata": {
        "id": "F7vbYtJyhwvj",
        "colab_type": "code",
        "colab": {
          "base_uri": "https://localhost:8080/",
          "height": 142
        },
        "outputId": "1e311006-866c-470b-8d0b-2a65814aa9c6"
      },
      "source": [
        "learn.unfreeze()\n",
        "learn.fit_one_cycle(3, slice(1e-4,1e-2))"
      ],
      "execution_count": 14,
      "outputs": [
        {
          "output_type": "display_data",
          "data": {
            "text/html": [
              "<table border=\"1\" class=\"dataframe\">\n",
              "  <thead>\n",
              "    <tr style=\"text-align: left;\">\n",
              "      <th>epoch</th>\n",
              "      <th>train_loss</th>\n",
              "      <th>valid_loss</th>\n",
              "      <th>accuracy</th>\n",
              "      <th>time</th>\n",
              "    </tr>\n",
              "  </thead>\n",
              "  <tbody>\n",
              "    <tr>\n",
              "      <td>0</td>\n",
              "      <td>3.989858</td>\n",
              "      <td>3.896522</td>\n",
              "      <td>0.286027</td>\n",
              "      <td>00:18</td>\n",
              "    </tr>\n",
              "    <tr>\n",
              "      <td>1</td>\n",
              "      <td>3.714257</td>\n",
              "      <td>3.878335</td>\n",
              "      <td>0.285818</td>\n",
              "      <td>00:18</td>\n",
              "    </tr>\n",
              "    <tr>\n",
              "      <td>2</td>\n",
              "      <td>3.263621</td>\n",
              "      <td>3.900767</td>\n",
              "      <td>0.285476</td>\n",
              "      <td>00:17</td>\n",
              "    </tr>\n",
              "  </tbody>\n",
              "</table>"
            ],
            "text/plain": [
              "<IPython.core.display.HTML object>"
            ]
          },
          "metadata": {
            "tags": []
          }
        }
      ]
    },
    {
      "cell_type": "markdown",
      "metadata": {
        "id": "EBhjDJ9Ghwvl",
        "colab_type": "text"
      },
      "source": [
        "To evaluate your language model, you can run the [`Learner.predict`](/basic_train.html#Learner.predict) method and specify the number of words you want it to guess."
      ]
    },
    {
      "cell_type": "code",
      "metadata": {
        "id": "OiFFUZALhwvl",
        "colab_type": "code",
        "colab": {
          "base_uri": "https://localhost:8080/",
          "height": 34
        },
        "outputId": "eec95fb5-66f3-4d13-e5e8-0c9e7c835730"
      },
      "source": [
        "learn.predict(\"This is a review about\", n_words=10)"
      ],
      "execution_count": 15,
      "outputs": [
        {
          "output_type": "execute_result",
          "data": {
            "text/plain": [
              "'This is a review about Kubrick . The fest contains two factors :'"
            ]
          },
          "metadata": {
            "tags": []
          },
          "execution_count": 15
        }
      ]
    },
    {
      "cell_type": "markdown",
      "metadata": {
        "id": "xucBTQeWhwvo",
        "colab_type": "text"
      },
      "source": [
        "It doesn't make much sense (we have a tiny vocabulary here and didn't train much on it) but note that it respects basic grammar (which comes from the pretrained model).\n",
        "\n",
        "Finally we save the encoder to be able to use it for classification in the next section."
      ]
    },
    {
      "cell_type": "code",
      "metadata": {
        "id": "UvNl4UTXhwvp",
        "colab_type": "code",
        "colab": {}
      },
      "source": [
        "learn.save('ft')\n",
        "learn.save_encoder('ft_enc')"
      ],
      "execution_count": 0,
      "outputs": []
    },
    {
      "cell_type": "markdown",
      "metadata": {
        "id": "ybz8lzKGhwvr",
        "colab_type": "text"
      },
      "source": [
        "### Building a classifier"
      ]
    },
    {
      "cell_type": "code",
      "metadata": {
        "id": "4jvpZK2_hwvs",
        "colab_type": "code",
        "colab": {
          "base_uri": "https://localhost:8080/",
          "height": 1000
        },
        "outputId": "c9b7c941-e3cd-4cbf-8564-58c1fc39fad3"
      },
      "source": [
        "learn = text_classifier_learner(data_clas, AWD_LSTM, drop_mult=0.5).to_fp16()\n",
        "learn.load_encoder('ft_enc')"
      ],
      "execution_count": 17,
      "outputs": [
        {
          "output_type": "execute_result",
          "data": {
            "text/plain": [
              "RNNLearner(data=TextClasDataBunch;\n",
              "\n",
              "Train: LabelList (799 items)\n",
              "x: TextList\n",
              "xxbos xxmaj franco proves , once again , that he is the prince of surreal & erotic cinema . xxmaj true , much of his work can be viewed as entertaining sleaze but with xxmaj xxunk ( xxmaj xxunk ) he shows what he is truly capable of when he lets his warped creativity run xxunk and gives us a film that is both xxunk and enigmatic whilst still maintaining the xxunk xxunk xxunk in his work . xxmaj jerry xxmaj van xxmaj xxunk 's splendid score xxunk as the viewer is thrown from one bizarre xxunk to another as we follow the trials of a xxunk artist ( xxmaj xxunk ) who may be xxunk , or may indeed ( as one mysterious character states ) be a devil , attempt to come to terms with the world she xxunk . a beautiful and enigmatic piece of cinema highly recommended to anybody with even a passing interest in alternative cinema .,xxbos xxmaj not everything is said in this excellent first feature from xxmaj xxunk xxmaj xxunk . xxmaj the friendship , the \" wanting to fit in \" , the first sexual feelings ... xxmaj all this and much more is xxunk through the xxunk xxunk swimming scenes . \n",
              " \n",
              "  xxmaj all three girls in the movie try to find and express their personality in a very different way . xxmaj it is a much less violent approach to the understanding of the teenage years compared to , say , \" xxmaj thirteen \" , but a very worthwhile trip nonetheless . \n",
              " \n",
              "  a must see , and please leave all xxmaj american cinematographic xxunk at he door . xxmaj the soundtrack is xxup a+ by the way . \n",
              " \n",
              "  xxmaj bon xxunk !,xxbos i could n't believe it . i had to rub my eyes a few times . xxmaj was it true ? \n",
              " \n",
              "  xxmaj yes , there were xxmaj billy xxmaj dee xxmaj williams , xxmaj jeff xxmaj conaway , xxmaj xxunk xxmaj xxunk and xxmaj tracy xxmaj scoggins - all of them have some manner of talent but here they all were in what basically adds up to a xxmaj cinemax - style skin flick set on board a spaceship ! \n",
              " \n",
              "  xxmaj sad as it is , \" xxmaj alien xxmaj intruder \" tries to be unique , with a computer virus / alien demon / xxunk / whatever else you want to call her named xxmaj ariel ( xxmaj scoggins ) xxunk this sort - of high - xxunk virtual reality station on board a spaceship where four men are allowed to live out their fantasies as the system is over - seen by their captain ( xxmaj williams ) . \n",
              " \n",
              "  xxmaj interesting ? xxmaj maybe , but here everything just plays out like a well - padded episode of \" xxmaj red xxmaj xxunk xxmaj xxunk \" . xxmaj williams out - classes everything right and left , and looks like he 'd rather be doing anything else , xxup anywhere else . xxmaj ah , the things people do for money xxrep 4 . \n",
              " \n",
              "  xxmaj the xxup fx are pretty static , maybe even less than what you 'd expect for a straight - to - video xxunk like this . xxmaj unfortunately , even the female nudity is less than you 'd expect . xxup sexual xxup xxunk is the real star here and , of course , it gets xxup all the best scenes . \n",
              " \n",
              "  xxmaj if you like a movie that 's all xxunk and no brains , check out \" xxmaj alien xxmaj intruder \" . xxmaj of course , you 'll probably have to look no further than xxmaj cinemax at 2 or 3 in the morning . \n",
              " \n",
              "  xxmaj no stars , not even for what star power this flick can muster . \n",
              " \n",
              "  xxmaj leave this one lost in space .,xxbos xxmaj before she went into politics or public service , xxmaj glenda xxmaj jackson was one of xxmaj britain 's finest film actresses . xxmaj this film displays her talent despite having a supporting role in a stellar cast that includes xxmaj julie xxmaj christie as xxmaj xxunk , the wife of a xxmaj british xxmaj royal xxmaj captain who has lost his memory of the last 20 years , and xxmaj xxunk played by xxmaj american xxmaj ann - xxmaj xxunk in an almost unrecognizable role as the xxunk sister . xxmaj alan xxmaj bates plays the captain who suffers from memory loss xxunk by the shell shock during xxmaj world xxmaj war xxup i. xxmaj sir xxmaj ian xxmaj xxunk has a smaller role as the doctor xxunk him . xxmaj you see familiar faces like xxmaj sheila xxmaj keith , xxmaj patsy xxmaj xxunk , and xxmaj frank xxmaj xxunk . xxmaj you ca n't help but watch xxmaj glenda play a xxunk housewife and the first true love of the xxmaj captain but they came from different classes . xxmaj it 's not the greatest movie but it 's good to see xxmaj glenda 's amazing talent . xxmaj she is still a fantastic actress , comedy or drama . xxmaj she makes xxmaj margaret xxmaj grey into a likable character and you see why a regal captain fell in love with her .,xxbos xxmaj one of the worst movies i 've ever seen . xxmaj acting was terrible , both for the kids and the adults . xxmaj most to all characters showed no , little or not enough emotion . xxmaj the lighting was terrible , and there were too many mess ups about the time of the day the film was shot ( xxmaj in the river scene where they just get their boat destroyed , there 's 4 shots ; xxmaj the sheriff and xxmaj dad in the evening on their boat , xxmaj xxunk and xxmaj molly in the evening swimming , the rest of the kids in the xxunk * when it 's supposed to in the evening * at the river bank , and the doctor , xxmaj xxunk , and xxmaj xxunk at night but not in the evening getting off their boat . ) xxmaj the best acting in the movie was probably from the sheriff , xxmaj cappy ( xxmaj although , there 's a xxunk of character when the pulse xxunk * xxmaj whatever that thing is when people die , it xxunk * shows xxmaj cappy has died , he still moves while it can still be heard xxunk , and while the nurse extra xxunk his pulse xxunk , then it shows the pulse again , and xxup then he finally dies . ) i guess it 's not going to be perfect , since it 's an independent movie , but it still could be better . xxmaj not worth watching , honestly , even for kids . xxmaj might as well watch something good , like xxmaj the xxmaj lion xxmaj king or xxmaj toy xxmaj story if you 're going to see anything you 'll remember .\n",
              "y: CategoryList\n",
              "positive,positive,negative,positive,negative\n",
              "Path: /root/.fastai/data/imdb_sample;\n",
              "\n",
              "Valid: LabelList (201 items)\n",
              "x: TextList\n",
              "xxbos xxup warning ! xxmaj this review will reveal the ending of the movie , \" xxmaj scoop . \" xxmaj if you do n't want to know how the movie ends , do n't read this review ! \n",
              " \n",
              "  \" xxmaj scoop \" is so bad you 'll think \" xxmaj annie xxmaj hall \" was a xxunk . \n",
              " \n",
              "  xxmaj it gets one star because you get to see xxmaj hugh xxmaj jackman 's naked chest . xxmaj that 's the only thing \" xxmaj scoop \" has going for it . \n",
              " \n",
              "  xxmaj woody xxmaj allen 's misogyny , and his xxunk on women young enough , at this point , to be his xxunk , has crippled any ability to make movies he may have had at any point . \n",
              " \n",
              "  xxmaj the plot seems promising : a ghost , xxmaj ian mcshane , directs a xxunk headed student , xxmaj scarlett xxmaj johansson , to investigate whether or not an xxmaj english xxmaj lord , xxmaj hugh xxmaj jackman , is the notorious xxmaj xxunk xxmaj xxunk xxmaj killer of prostitutes . a magician , xxmaj woody xxmaj allen , helps the girl . \n",
              " \n",
              "  xxmaj promising plot xxunk , the movie completely lacks charm , or humor , or atmosphere . xxmaj it 's an amazingly leaden , amateurish effort for someone who has made even one previous film , never mind dozens . xxmaj perhaps xxmaj allen has had a stroke that has gone xxunk in the press . \n",
              " \n",
              "  xxmaj much is made of the fact that unlike in his previous films , xxmaj woody xxmaj allen , now a xxunk , has xxup finally allowed a younger male lead to get the girl . \n",
              " \n",
              "  xxmaj not so . xxmaj in fact , the plot is constructed in such a way so that the girl gets no one . \n",
              " \n",
              "  xxmaj there is an early scene where xxmaj johansson , for no reason central to the movie , allows herself to be gotten drunk , and seduced , by a powerful , older director . \" xxmaj seduced \" is a xxunk for what happens . xxmaj it 's a \" xxunk , xxunk , i 've got ta go \" kind of moment . xxmaj it bears no relation to the plot whatsoever , and it xxunk xxmaj johansson in the viewer 's eye . xxmaj why did xxmaj allen add that unnecessary scene to the movie ? xxmaj because it shows a powerful director - like xxmaj allen - having sex with the female lead . xxmaj allen gets to have his cake and eat it , too . \n",
              " \n",
              "  xxmaj johansson is not yet an actress . xxmaj she does n't know how to xxunk the screen except by wearing a tight , low cut top . xxmaj she xxunk xxmaj allen in a couple of scenes , and that just looks weird and sad . \n",
              " \n",
              "  xxmaj it does n't help that her character is scripted as a doll who ca n't function without a ghost , or an elderly and less than awe - inspiring magician , telling her what to do at every turn . \n",
              " \n",
              "  xxmaj she is xxunk half xxmaj jackman 's age , and she comes across as a very vapid screen presence in their scenes together . \n",
              " \n",
              "  xxmaj audience members not obsessed with breasts deserve better in their heroines , and xxmaj jackman deserves better , too -- a script that gives the heroine some intelligence and agency , and an actress who can convey those qualities . \n",
              " \n",
              "  xxmaj hugh xxmaj jackman is similarly cheated by the script . xxmaj allen apparently ca n't stand it that xxmaj jackman is so stunningly good looking and young , and so he gives xxmaj jackman nothing to say or do . xxmaj like xxmaj johansson , he is used merely for his good looks . xxmaj this is a shame , because , as xxmaj jackman has shown in any number of productions , from \" xxmaj xxunk \" to \" x xxmaj men , \" he xxup can act . \n",
              " \n",
              "  xxmaj here 's the big plot twist -- xxmaj jackman , suave , charming xxmaj english xxmaj lord , really is a killer . xxmaj so , though the movie says it is all about letting someone else , other than xxmaj allen , get the girl , she does n't get anyone . xxmaj jackman , the man she 's been making love to , is a man who murdered a prostitute . xxmaj nice , xxmaj woody . xxmaj nice way to xxunk your heroine for being beyond your grasp . \n",
              " \n",
              "  xxmaj in a passive aggressive touch , xxmaj allen xxunk his heroine of his own presence , as well , killing off his character , the magician , leaving xxmaj scarlett xxmaj johansson all alone at the end of the film . \n",
              " \n",
              "  a final note : at my screening , not a single audience member laughed at any point during the film . xxmaj always a bad sign when a film is advertised as a comedy .,xxbos xxmaj harvey xxmaj xxunk 's best performance so far the new century . xxmaj very nicely photographed , a beautiful snap - shot of pre - xxmaj castro xxmaj cuba . xxmaj the story revolves around the nephew of a local minor crime boss who develops a friendship with an xxmaj american with xxmaj hollywood connections . xxmaj it 's really about the moment when a boy xxunk to the fact that the small circle of people he knows actually live in a much larger , much more complex world that he does n't yet xxunk script is strong and filled with humor , the direction is crisp . xxmaj over all , a really professional job that fits in well with the tradition of xxmaj xxunk xxmaj american cinema . xxmaj the one weakness is the decision to shoot in xxunk - sound xxmaj english rather than xxmaj spanish - probably to improve xxunk in the xxup us . xxmaj unfortunately , this just makes the film a little less convincing . xxmaj but if you can see beyond this , you will find a xxunk trip to another world . xxmaj recommended .,xxbos i rented the dubbed - xxmaj english version of xxmaj xxunk , hoping that since it came from well - known novels it would have some substance . xxmaj while there were hints of substance in the movie , it mostly did n't rise above the level of xxunk cartoon . xxmaj maybe the movie was a bad adaptation of the book , or it lost a lot in the dubbed version . xxmaj or maybe even the source novels were xxunk . xxmaj but for whatever reason , there was n't much there . \n",
              " \n",
              "  i noticed lots of details that were xxunk , sloppy , poorly xxunk , or otherwise xxunk . xxmaj some examples : xxmaj the opening scenes looked borrowed from the 2001 \" star gate \" scene and the xxmaj star xxmaj wars image of xxunk . xxmaj the robot on the xxunk looked like an xxunk \" xxup xxunk \" . \n",
              " \n",
              "  xxmaj it starts out trying to borrow its comic relief style of xxmaj star xxmaj wars , but xxunk ( since the humor does n't work ) gives up on comedy and plays it serious . xxmaj in that sense , it 's superior to the xxmaj star xxmaj wars franchise , which started with a clever sense of humor , and eventually xxunk to xxmaj jar - xxmaj jar 's annoying silliness . \n",
              " \n",
              "  xxmaj the agricultural details were apparently drawn by someone who had never seen a farm . xxmaj the xxunk was driving through the xxunk middle of a field , xxunk xxunk onto xxunk xxunk , rather than working from one side to the other and xxunk the xxunk onto already - xxunk xxunk or into a xxunk . xxmaj xxunk ( xxunk ) was xxunk out the xxunk xxunk , but the farm lands were drawn like a wheat field . \n",
              " \n",
              "  xxmaj when it was time for xxmaj kim 's father had to face his fate , there was n't any dramatic weight to the scene . xxmaj that could have been xxunk the fault of the xxmaj english - language voice actor , but the drawings did n't show much weight either . xxmaj kim 's reactions in that scene were similarly unconvincing . \n",
              " \n",
              "  xxmaj similarly , when a character named xxmaj henderson was killed , xxmaj chris showed very little reaction , even though they were apparently supposed to have been close . ( xxmaj henderson 's death is no spoiler ; his name is n't revealed until his death scene . ) xxmaj she seems to promptly forget him . xxmaj someone 's expression of sympathy shows more feeling than she does . i think the voice actor deserves most of the blame in that case ; there 's at least a hint of feeling in the drawings of xxmaj chris . \n",
              " \n",
              "  xxmaj on several occasions , villains fail to accomplish their orders . a villain leader often xxunk those failures with miserable deaths . i ca n't say whether that 's lifted from xxmaj star xxmaj wars , or if that comes from an earlier source -- possibly the xxmaj xxunk books . \n",
              " \n",
              "  xxmaj there 's a scene where a space ship crash - lands . xxmaj as it xxunk toward the ground , parts are break off the ship . xxmaj but so many pieces are fall off that there should be nothing left of it by the time it lands . \n",
              " \n",
              "  xxmaj while in most cases xxmaj chris seems like a competent , tough space hero , there 's a scene where she xxunk like an incompetent damsel in distress . xxmaj someone tough enough to get over xxmaj henderson 's death so quickly should at least be able to xxunk , \" help , it 's got me and i ca n't reach my gun ! \" instead of just xxunk . \n",
              " \n",
              "  xxmaj the character with the most personality ( almost too much at times ) is xxup xxunk xxmaj bill . xxmaj he sounded like xxmaj xxunk xxmaj jack , the xxup xxunk in xxmaj american xxmaj xxunk . i wonder if he 's as well - xxunk in the original language . \n",
              " \n",
              "  xxmaj two xxunk in the movie xxunk . xxmaj the explosions were xxunk , and appeared to xxunk a lot of inspiration to xxmaj star xxmaj wars . xxmaj to its credit , however , the cause of the explosion was completely unlike the xxmaj death xxmaj star 's primary weapon . xxmaj the dialog had a good , interesting explanation for the cause . xxmaj many other explosions in the movie did look good , just not the xxunk explosions . \n",
              " \n",
              "  xxmaj some of the sound effects are very cheesy , as if borrowed from a late 1970s video game . xxmaj some of the images look like primitive video games , and some influence from xxmaj xxunk is visible too . xxmaj on the other hand , the sound effects are often pretty decent , although that xxunk the cheesy - sounding parts . xxmaj the art is good too , particularly when it stays away from the often cheesy - looking computer graphics . \n",
              " \n",
              "  xxmaj finally , there 's the story . xxmaj if a movie tells a good story , it can get away with a lot of production shortcomings . xxmaj but the plot here was pretty xxunk . a xxunk boy tries to help someone on a crippled space ship , and xxunk a great power he does n't understand . xxmaj he and his band of very xxunk xxunk struggle against a powerful , xxunk evil enemy . xxmaj he makes friends , learns about his special power , and grows into a young man . xxmaj if he is xxunk and xxunk enough , he might even defeat the evil enemy . xxmaj details along the way can make such a story rise above the simple outline , but there 's very little more than that in this movie . \n",
              " \n",
              "  xxmaj in the end , it 's just a xxunk cartoon . xxmaj but then , since it looks like the primary intended audience is older children , maybe it does n't need to be anything more than that .,xxbos xxmaj this was the best documentary i 've ever seen ! ! i just saw xxmaj xxunk of xxmaj dogtown and wanted to know more about xxmaj stacy xxmaj peralta , and was surprised and happy to find out this was one of his films as well . xxmaj great xxmaj job xxmaj stacy ! i was kicking back at work last week , bored xxmaj xxunk and this movie came on . xxmaj growing up in xxmaj orange xxmaj county in the 80 's i surfed up and down the local xxunk and so did my dad when he was a teenager . i grew up at the beach , my parents took me every weekend , i body surfed , xxunk then moved up from there . xxmaj this movie just captivated me . xxmaj it was way before my time but it was awesome to see what these guys went through .. xxup true xxup pioneers ! xxmaj this movie is a collectors item .,xxbos xxmaj it 's terrific when a funny movie does n't make smile you . xxmaj what a pity ! ! xxmaj this film is very boring and so long . xxmaj it 's simply xxunk . xxmaj the story is staggering without goal and no fun . \n",
              " \n",
              "  xxmaj you feel better when it 's finished .\n",
              "y: CategoryList\n",
              "negative,positive,negative,positive,negative\n",
              "Path: /root/.fastai/data/imdb_sample;\n",
              "\n",
              "Test: None, model=SequentialRNN(\n",
              "  (0): MultiBatchEncoder(\n",
              "    (module): AWD_LSTM(\n",
              "      (encoder): Embedding(8856, 400, padding_idx=1)\n",
              "      (encoder_dp): EmbeddingDropout(\n",
              "        (emb): Embedding(8856, 400, padding_idx=1)\n",
              "      )\n",
              "      (rnns): ModuleList(\n",
              "        (0): WeightDropout(\n",
              "          (module): LSTM(400, 1152, batch_first=True)\n",
              "        )\n",
              "        (1): WeightDropout(\n",
              "          (module): LSTM(1152, 1152, batch_first=True)\n",
              "        )\n",
              "        (2): WeightDropout(\n",
              "          (module): LSTM(1152, 400, batch_first=True)\n",
              "        )\n",
              "      )\n",
              "      (input_dp): RNNDropout()\n",
              "      (hidden_dps): ModuleList(\n",
              "        (0): RNNDropout()\n",
              "        (1): RNNDropout()\n",
              "        (2): RNNDropout()\n",
              "      )\n",
              "    )\n",
              "  )\n",
              "  (1): PoolingLinearClassifier(\n",
              "    (layers): Sequential(\n",
              "      (0): BatchNorm1d(1200, eps=1e-05, momentum=0.1, affine=True, track_running_stats=True)\n",
              "      (1): Dropout(p=0.2)\n",
              "      (2): Linear(in_features=1200, out_features=50, bias=True)\n",
              "      (3): ReLU(inplace)\n",
              "      (4): BatchNorm1d(50, eps=1e-05, momentum=0.1, affine=True, track_running_stats=True)\n",
              "      (5): Dropout(p=0.1)\n",
              "      (6): Linear(in_features=50, out_features=2, bias=True)\n",
              "    )\n",
              "  )\n",
              "), opt_func=functools.partial(<class 'torch.optim.adam.Adam'>, betas=(0.9, 0.99)), loss_func=FlattenedLoss of CrossEntropyLoss(), metrics=[<function accuracy at 0x7f211aed16a8>], true_wd=True, bn_wd=True, wd=0.01, train_bn=True, path=PosixPath('/root/.fastai/data/imdb_sample'), model_dir='models', callback_fns=[functools.partial(<class 'fastai.basic_train.Recorder'>, add_time=True, silent=False)], callbacks=[RNNTrainer\n",
              "learn: RNNLearner(data=TextClasDataBunch;\n",
              "\n",
              "Train: LabelList (799 items)\n",
              "x: TextList\n",
              "xxbos xxmaj franco proves , once again , that he is the prince of surreal & erotic cinema . xxmaj true , much of his work can be viewed as entertaining sleaze but with xxmaj xxunk ( xxmaj xxunk ) he shows what he is truly capable of when he lets his warped creativity run xxunk and gives us a film that is both xxunk and enigmatic whilst still maintaining the xxunk xxunk xxunk in his work . xxmaj jerry xxmaj van xxmaj xxunk 's splendid score xxunk as the viewer is thrown from one bizarre xxunk to another as we follow the trials of a xxunk artist ( xxmaj xxunk ) who may be xxunk , or may indeed ( as one mysterious character states ) be a devil , attempt to come to terms with the world she xxunk . a beautiful and enigmatic piece of cinema highly recommended to anybody with even a passing interest in alternative cinema .,xxbos xxmaj not everything is said in this excellent first feature from xxmaj xxunk xxmaj xxunk . xxmaj the friendship , the \" wanting to fit in \" , the first sexual feelings ... xxmaj all this and much more is xxunk through the xxunk xxunk swimming scenes . \n",
              " \n",
              "  xxmaj all three girls in the movie try to find and express their personality in a very different way . xxmaj it is a much less violent approach to the understanding of the teenage years compared to , say , \" xxmaj thirteen \" , but a very worthwhile trip nonetheless . \n",
              " \n",
              "  a must see , and please leave all xxmaj american cinematographic xxunk at he door . xxmaj the soundtrack is xxup a+ by the way . \n",
              " \n",
              "  xxmaj bon xxunk !,xxbos i could n't believe it . i had to rub my eyes a few times . xxmaj was it true ? \n",
              " \n",
              "  xxmaj yes , there were xxmaj billy xxmaj dee xxmaj williams , xxmaj jeff xxmaj conaway , xxmaj xxunk xxmaj xxunk and xxmaj tracy xxmaj scoggins - all of them have some manner of talent but here they all were in what basically adds up to a xxmaj cinemax - style skin flick set on board a spaceship ! \n",
              " \n",
              "  xxmaj sad as it is , \" xxmaj alien xxmaj intruder \" tries to be unique , with a computer virus / alien demon / xxunk / whatever else you want to call her named xxmaj ariel ( xxmaj scoggins ) xxunk this sort - of high - xxunk virtual reality station on board a spaceship where four men are allowed to live out their fantasies as the system is over - seen by their captain ( xxmaj williams ) . \n",
              " \n",
              "  xxmaj interesting ? xxmaj maybe , but here everything just plays out like a well - padded episode of \" xxmaj red xxmaj xxunk xxmaj xxunk \" . xxmaj williams out - classes everything right and left , and looks like he 'd rather be doing anything else , xxup anywhere else . xxmaj ah , the things people do for money xxrep 4 . \n",
              " \n",
              "  xxmaj the xxup fx are pretty static , maybe even less than what you 'd expect for a straight - to - video xxunk like this . xxmaj unfortunately , even the female nudity is less than you 'd expect . xxup sexual xxup xxunk is the real star here and , of course , it gets xxup all the best scenes . \n",
              " \n",
              "  xxmaj if you like a movie that 's all xxunk and no brains , check out \" xxmaj alien xxmaj intruder \" . xxmaj of course , you 'll probably have to look no further than xxmaj cinemax at 2 or 3 in the morning . \n",
              " \n",
              "  xxmaj no stars , not even for what star power this flick can muster . \n",
              " \n",
              "  xxmaj leave this one lost in space .,xxbos xxmaj before she went into politics or public service , xxmaj glenda xxmaj jackson was one of xxmaj britain 's finest film actresses . xxmaj this film displays her talent despite having a supporting role in a stellar cast that includes xxmaj julie xxmaj christie as xxmaj xxunk , the wife of a xxmaj british xxmaj royal xxmaj captain who has lost his memory of the last 20 years , and xxmaj xxunk played by xxmaj american xxmaj ann - xxmaj xxunk in an almost unrecognizable role as the xxunk sister . xxmaj alan xxmaj bates plays the captain who suffers from memory loss xxunk by the shell shock during xxmaj world xxmaj war xxup i. xxmaj sir xxmaj ian xxmaj xxunk has a smaller role as the doctor xxunk him . xxmaj you see familiar faces like xxmaj sheila xxmaj keith , xxmaj patsy xxmaj xxunk , and xxmaj frank xxmaj xxunk . xxmaj you ca n't help but watch xxmaj glenda play a xxunk housewife and the first true love of the xxmaj captain but they came from different classes . xxmaj it 's not the greatest movie but it 's good to see xxmaj glenda 's amazing talent . xxmaj she is still a fantastic actress , comedy or drama . xxmaj she makes xxmaj margaret xxmaj grey into a likable character and you see why a regal captain fell in love with her .,xxbos xxmaj one of the worst movies i 've ever seen . xxmaj acting was terrible , both for the kids and the adults . xxmaj most to all characters showed no , little or not enough emotion . xxmaj the lighting was terrible , and there were too many mess ups about the time of the day the film was shot ( xxmaj in the river scene where they just get their boat destroyed , there 's 4 shots ; xxmaj the sheriff and xxmaj dad in the evening on their boat , xxmaj xxunk and xxmaj molly in the evening swimming , the rest of the kids in the xxunk * when it 's supposed to in the evening * at the river bank , and the doctor , xxmaj xxunk , and xxmaj xxunk at night but not in the evening getting off their boat . ) xxmaj the best acting in the movie was probably from the sheriff , xxmaj cappy ( xxmaj although , there 's a xxunk of character when the pulse xxunk * xxmaj whatever that thing is when people die , it xxunk * shows xxmaj cappy has died , he still moves while it can still be heard xxunk , and while the nurse extra xxunk his pulse xxunk , then it shows the pulse again , and xxup then he finally dies . ) i guess it 's not going to be perfect , since it 's an independent movie , but it still could be better . xxmaj not worth watching , honestly , even for kids . xxmaj might as well watch something good , like xxmaj the xxmaj lion xxmaj king or xxmaj toy xxmaj story if you 're going to see anything you 'll remember .\n",
              "y: CategoryList\n",
              "positive,positive,negative,positive,negative\n",
              "Path: /root/.fastai/data/imdb_sample;\n",
              "\n",
              "Valid: LabelList (201 items)\n",
              "x: TextList\n",
              "xxbos xxup warning ! xxmaj this review will reveal the ending of the movie , \" xxmaj scoop . \" xxmaj if you do n't want to know how the movie ends , do n't read this review ! \n",
              " \n",
              "  \" xxmaj scoop \" is so bad you 'll think \" xxmaj annie xxmaj hall \" was a xxunk . \n",
              " \n",
              "  xxmaj it gets one star because you get to see xxmaj hugh xxmaj jackman 's naked chest . xxmaj that 's the only thing \" xxmaj scoop \" has going for it . \n",
              " \n",
              "  xxmaj woody xxmaj allen 's misogyny , and his xxunk on women young enough , at this point , to be his xxunk , has crippled any ability to make movies he may have had at any point . \n",
              " \n",
              "  xxmaj the plot seems promising : a ghost , xxmaj ian mcshane , directs a xxunk headed student , xxmaj scarlett xxmaj johansson , to investigate whether or not an xxmaj english xxmaj lord , xxmaj hugh xxmaj jackman , is the notorious xxmaj xxunk xxmaj xxunk xxmaj killer of prostitutes . a magician , xxmaj woody xxmaj allen , helps the girl . \n",
              " \n",
              "  xxmaj promising plot xxunk , the movie completely lacks charm , or humor , or atmosphere . xxmaj it 's an amazingly leaden , amateurish effort for someone who has made even one previous film , never mind dozens . xxmaj perhaps xxmaj allen has had a stroke that has gone xxunk in the press . \n",
              " \n",
              "  xxmaj much is made of the fact that unlike in his previous films , xxmaj woody xxmaj allen , now a xxunk , has xxup finally allowed a younger male lead to get the girl . \n",
              " \n",
              "  xxmaj not so . xxmaj in fact , the plot is constructed in such a way so that the girl gets no one . \n",
              " \n",
              "  xxmaj there is an early scene where xxmaj johansson , for no reason central to the movie , allows herself to be gotten drunk , and seduced , by a powerful , older director . \" xxmaj seduced \" is a xxunk for what happens . xxmaj it 's a \" xxunk , xxunk , i 've got ta go \" kind of moment . xxmaj it bears no relation to the plot whatsoever , and it xxunk xxmaj johansson in the viewer 's eye . xxmaj why did xxmaj allen add that unnecessary scene to the movie ? xxmaj because it shows a powerful director - like xxmaj allen - having sex with the female lead . xxmaj allen gets to have his cake and eat it , too . \n",
              " \n",
              "  xxmaj johansson is not yet an actress . xxmaj she does n't know how to xxunk the screen except by wearing a tight , low cut top . xxmaj she xxunk xxmaj allen in a couple of scenes , and that just looks weird and sad . \n",
              " \n",
              "  xxmaj it does n't help that her character is scripted as a doll who ca n't function without a ghost , or an elderly and less than awe - inspiring magician , telling her what to do at every turn . \n",
              " \n",
              "  xxmaj she is xxunk half xxmaj jackman 's age , and she comes across as a very vapid screen presence in their scenes together . \n",
              " \n",
              "  xxmaj audience members not obsessed with breasts deserve better in their heroines , and xxmaj jackman deserves better , too -- a script that gives the heroine some intelligence and agency , and an actress who can convey those qualities . \n",
              " \n",
              "  xxmaj hugh xxmaj jackman is similarly cheated by the script . xxmaj allen apparently ca n't stand it that xxmaj jackman is so stunningly good looking and young , and so he gives xxmaj jackman nothing to say or do . xxmaj like xxmaj johansson , he is used merely for his good looks . xxmaj this is a shame , because , as xxmaj jackman has shown in any number of productions , from \" xxmaj xxunk \" to \" x xxmaj men , \" he xxup can act . \n",
              " \n",
              "  xxmaj here 's the big plot twist -- xxmaj jackman , suave , charming xxmaj english xxmaj lord , really is a killer . xxmaj so , though the movie says it is all about letting someone else , other than xxmaj allen , get the girl , she does n't get anyone . xxmaj jackman , the man she 's been making love to , is a man who murdered a prostitute . xxmaj nice , xxmaj woody . xxmaj nice way to xxunk your heroine for being beyond your grasp . \n",
              " \n",
              "  xxmaj in a passive aggressive touch , xxmaj allen xxunk his heroine of his own presence , as well , killing off his character , the magician , leaving xxmaj scarlett xxmaj johansson all alone at the end of the film . \n",
              " \n",
              "  a final note : at my screening , not a single audience member laughed at any point during the film . xxmaj always a bad sign when a film is advertised as a comedy .,xxbos xxmaj harvey xxmaj xxunk 's best performance so far the new century . xxmaj very nicely photographed , a beautiful snap - shot of pre - xxmaj castro xxmaj cuba . xxmaj the story revolves around the nephew of a local minor crime boss who develops a friendship with an xxmaj american with xxmaj hollywood connections . xxmaj it 's really about the moment when a boy xxunk to the fact that the small circle of people he knows actually live in a much larger , much more complex world that he does n't yet xxunk script is strong and filled with humor , the direction is crisp . xxmaj over all , a really professional job that fits in well with the tradition of xxmaj xxunk xxmaj american cinema . xxmaj the one weakness is the decision to shoot in xxunk - sound xxmaj english rather than xxmaj spanish - probably to improve xxunk in the xxup us . xxmaj unfortunately , this just makes the film a little less convincing . xxmaj but if you can see beyond this , you will find a xxunk trip to another world . xxmaj recommended .,xxbos i rented the dubbed - xxmaj english version of xxmaj xxunk , hoping that since it came from well - known novels it would have some substance . xxmaj while there were hints of substance in the movie , it mostly did n't rise above the level of xxunk cartoon . xxmaj maybe the movie was a bad adaptation of the book , or it lost a lot in the dubbed version . xxmaj or maybe even the source novels were xxunk . xxmaj but for whatever reason , there was n't much there . \n",
              " \n",
              "  i noticed lots of details that were xxunk , sloppy , poorly xxunk , or otherwise xxunk . xxmaj some examples : xxmaj the opening scenes looked borrowed from the 2001 \" star gate \" scene and the xxmaj star xxmaj wars image of xxunk . xxmaj the robot on the xxunk looked like an xxunk \" xxup xxunk \" . \n",
              " \n",
              "  xxmaj it starts out trying to borrow its comic relief style of xxmaj star xxmaj wars , but xxunk ( since the humor does n't work ) gives up on comedy and plays it serious . xxmaj in that sense , it 's superior to the xxmaj star xxmaj wars franchise , which started with a clever sense of humor , and eventually xxunk to xxmaj jar - xxmaj jar 's annoying silliness . \n",
              " \n",
              "  xxmaj the agricultural details were apparently drawn by someone who had never seen a farm . xxmaj the xxunk was driving through the xxunk middle of a field , xxunk xxunk onto xxunk xxunk , rather than working from one side to the other and xxunk the xxunk onto already - xxunk xxunk or into a xxunk . xxmaj xxunk ( xxunk ) was xxunk out the xxunk xxunk , but the farm lands were drawn like a wheat field . \n",
              " \n",
              "  xxmaj when it was time for xxmaj kim 's father had to face his fate , there was n't any dramatic weight to the scene . xxmaj that could have been xxunk the fault of the xxmaj english - language voice actor , but the drawings did n't show much weight either . xxmaj kim 's reactions in that scene were similarly unconvincing . \n",
              " \n",
              "  xxmaj similarly , when a character named xxmaj henderson was killed , xxmaj chris showed very little reaction , even though they were apparently supposed to have been close . ( xxmaj henderson 's death is no spoiler ; his name is n't revealed until his death scene . ) xxmaj she seems to promptly forget him . xxmaj someone 's expression of sympathy shows more feeling than she does . i think the voice actor deserves most of the blame in that case ; there 's at least a hint of feeling in the drawings of xxmaj chris . \n",
              " \n",
              "  xxmaj on several occasions , villains fail to accomplish their orders . a villain leader often xxunk those failures with miserable deaths . i ca n't say whether that 's lifted from xxmaj star xxmaj wars , or if that comes from an earlier source -- possibly the xxmaj xxunk books . \n",
              " \n",
              "  xxmaj there 's a scene where a space ship crash - lands . xxmaj as it xxunk toward the ground , parts are break off the ship . xxmaj but so many pieces are fall off that there should be nothing left of it by the time it lands . \n",
              " \n",
              "  xxmaj while in most cases xxmaj chris seems like a competent , tough space hero , there 's a scene where she xxunk like an incompetent damsel in distress . xxmaj someone tough enough to get over xxmaj henderson 's death so quickly should at least be able to xxunk , \" help , it 's got me and i ca n't reach my gun ! \" instead of just xxunk . \n",
              " \n",
              "  xxmaj the character with the most personality ( almost too much at times ) is xxup xxunk xxmaj bill . xxmaj he sounded like xxmaj xxunk xxmaj jack , the xxup xxunk in xxmaj american xxmaj xxunk . i wonder if he 's as well - xxunk in the original language . \n",
              " \n",
              "  xxmaj two xxunk in the movie xxunk . xxmaj the explosions were xxunk , and appeared to xxunk a lot of inspiration to xxmaj star xxmaj wars . xxmaj to its credit , however , the cause of the explosion was completely unlike the xxmaj death xxmaj star 's primary weapon . xxmaj the dialog had a good , interesting explanation for the cause . xxmaj many other explosions in the movie did look good , just not the xxunk explosions . \n",
              " \n",
              "  xxmaj some of the sound effects are very cheesy , as if borrowed from a late 1970s video game . xxmaj some of the images look like primitive video games , and some influence from xxmaj xxunk is visible too . xxmaj on the other hand , the sound effects are often pretty decent , although that xxunk the cheesy - sounding parts . xxmaj the art is good too , particularly when it stays away from the often cheesy - looking computer graphics . \n",
              " \n",
              "  xxmaj finally , there 's the story . xxmaj if a movie tells a good story , it can get away with a lot of production shortcomings . xxmaj but the plot here was pretty xxunk . a xxunk boy tries to help someone on a crippled space ship , and xxunk a great power he does n't understand . xxmaj he and his band of very xxunk xxunk struggle against a powerful , xxunk evil enemy . xxmaj he makes friends , learns about his special power , and grows into a young man . xxmaj if he is xxunk and xxunk enough , he might even defeat the evil enemy . xxmaj details along the way can make such a story rise above the simple outline , but there 's very little more than that in this movie . \n",
              " \n",
              "  xxmaj in the end , it 's just a xxunk cartoon . xxmaj but then , since it looks like the primary intended audience is older children , maybe it does n't need to be anything more than that .,xxbos xxmaj this was the best documentary i 've ever seen ! ! i just saw xxmaj xxunk of xxmaj dogtown and wanted to know more about xxmaj stacy xxmaj peralta , and was surprised and happy to find out this was one of his films as well . xxmaj great xxmaj job xxmaj stacy ! i was kicking back at work last week , bored xxmaj xxunk and this movie came on . xxmaj growing up in xxmaj orange xxmaj county in the 80 's i surfed up and down the local xxunk and so did my dad when he was a teenager . i grew up at the beach , my parents took me every weekend , i body surfed , xxunk then moved up from there . xxmaj this movie just captivated me . xxmaj it was way before my time but it was awesome to see what these guys went through .. xxup true xxup pioneers ! xxmaj this movie is a collectors item .,xxbos xxmaj it 's terrific when a funny movie does n't make smile you . xxmaj what a pity ! ! xxmaj this film is very boring and so long . xxmaj it 's simply xxunk . xxmaj the story is staggering without goal and no fun . \n",
              " \n",
              "  xxmaj you feel better when it 's finished .\n",
              "y: CategoryList\n",
              "negative,positive,negative,positive,negative\n",
              "Path: /root/.fastai/data/imdb_sample;\n",
              "\n",
              "Test: None, model=SequentialRNN(\n",
              "  (0): MultiBatchEncoder(\n",
              "    (module): AWD_LSTM(\n",
              "      (encoder): Embedding(8856, 400, padding_idx=1)\n",
              "      (encoder_dp): EmbeddingDropout(\n",
              "        (emb): Embedding(8856, 400, padding_idx=1)\n",
              "      )\n",
              "      (rnns): ModuleList(\n",
              "        (0): WeightDropout(\n",
              "          (module): LSTM(400, 1152, batch_first=True)\n",
              "        )\n",
              "        (1): WeightDropout(\n",
              "          (module): LSTM(1152, 1152, batch_first=True)\n",
              "        )\n",
              "        (2): WeightDropout(\n",
              "          (module): LSTM(1152, 400, batch_first=True)\n",
              "        )\n",
              "      )\n",
              "      (input_dp): RNNDropout()\n",
              "      (hidden_dps): ModuleList(\n",
              "        (0): RNNDropout()\n",
              "        (1): RNNDropout()\n",
              "        (2): RNNDropout()\n",
              "      )\n",
              "    )\n",
              "  )\n",
              "  (1): PoolingLinearClassifier(\n",
              "    (layers): Sequential(\n",
              "      (0): BatchNorm1d(1200, eps=1e-05, momentum=0.1, affine=True, track_running_stats=True)\n",
              "      (1): Dropout(p=0.2)\n",
              "      (2): Linear(in_features=1200, out_features=50, bias=True)\n",
              "      (3): ReLU(inplace)\n",
              "      (4): BatchNorm1d(50, eps=1e-05, momentum=0.1, affine=True, track_running_stats=True)\n",
              "      (5): Dropout(p=0.1)\n",
              "      (6): Linear(in_features=50, out_features=2, bias=True)\n",
              "    )\n",
              "  )\n",
              "), opt_func=functools.partial(<class 'torch.optim.adam.Adam'>, betas=(0.9, 0.99)), loss_func=FlattenedLoss of CrossEntropyLoss(), metrics=[<function accuracy at 0x7f211aed16a8>], true_wd=True, bn_wd=True, wd=0.01, train_bn=True, path=PosixPath('/root/.fastai/data/imdb_sample'), model_dir='models', callback_fns=[functools.partial(<class 'fastai.basic_train.Recorder'>, add_time=True, silent=False)], callbacks=[...], layer_groups=[Sequential(\n",
              "  (0): Embedding(8856, 400, padding_idx=1)\n",
              "  (1): EmbeddingDropout(\n",
              "    (emb): Embedding(8856, 400, padding_idx=1)\n",
              "  )\n",
              "), Sequential(\n",
              "  (0): WeightDropout(\n",
              "    (module): LSTM(400, 1152, batch_first=True)\n",
              "  )\n",
              "  (1): RNNDropout()\n",
              "), Sequential(\n",
              "  (0): WeightDropout(\n",
              "    (module): LSTM(1152, 1152, batch_first=True)\n",
              "  )\n",
              "  (1): RNNDropout()\n",
              "), Sequential(\n",
              "  (0): WeightDropout(\n",
              "    (module): LSTM(1152, 400, batch_first=True)\n",
              "  )\n",
              "  (1): RNNDropout()\n",
              "), Sequential(\n",
              "  (0): PoolingLinearClassifier(\n",
              "    (layers): Sequential(\n",
              "      (0): BatchNorm1d(1200, eps=1e-05, momentum=0.1, affine=True, track_running_stats=True)\n",
              "      (1): Dropout(p=0.2)\n",
              "      (2): Linear(in_features=1200, out_features=50, bias=True)\n",
              "      (3): ReLU(inplace)\n",
              "      (4): BatchNorm1d(50, eps=1e-05, momentum=0.1, affine=True, track_running_stats=True)\n",
              "      (5): Dropout(p=0.1)\n",
              "      (6): Linear(in_features=50, out_features=2, bias=True)\n",
              "    )\n",
              "  )\n",
              ")], add_time=True, silent=False, cb_fns_registered=False)\n",
              "alpha: 2.0\n",
              "beta: 1.0, MixedPrecision\n",
              "learn: RNNLearner(data=TextClasDataBunch;\n",
              "\n",
              "Train: LabelList (799 items)\n",
              "x: TextList\n",
              "xxbos xxmaj franco proves , once again , that he is the prince of surreal & erotic cinema . xxmaj true , much of his work can be viewed as entertaining sleaze but with xxmaj xxunk ( xxmaj xxunk ) he shows what he is truly capable of when he lets his warped creativity run xxunk and gives us a film that is both xxunk and enigmatic whilst still maintaining the xxunk xxunk xxunk in his work . xxmaj jerry xxmaj van xxmaj xxunk 's splendid score xxunk as the viewer is thrown from one bizarre xxunk to another as we follow the trials of a xxunk artist ( xxmaj xxunk ) who may be xxunk , or may indeed ( as one mysterious character states ) be a devil , attempt to come to terms with the world she xxunk . a beautiful and enigmatic piece of cinema highly recommended to anybody with even a passing interest in alternative cinema .,xxbos xxmaj not everything is said in this excellent first feature from xxmaj xxunk xxmaj xxunk . xxmaj the friendship , the \" wanting to fit in \" , the first sexual feelings ... xxmaj all this and much more is xxunk through the xxunk xxunk swimming scenes . \n",
              " \n",
              "  xxmaj all three girls in the movie try to find and express their personality in a very different way . xxmaj it is a much less violent approach to the understanding of the teenage years compared to , say , \" xxmaj thirteen \" , but a very worthwhile trip nonetheless . \n",
              " \n",
              "  a must see , and please leave all xxmaj american cinematographic xxunk at he door . xxmaj the soundtrack is xxup a+ by the way . \n",
              " \n",
              "  xxmaj bon xxunk !,xxbos i could n't believe it . i had to rub my eyes a few times . xxmaj was it true ? \n",
              " \n",
              "  xxmaj yes , there were xxmaj billy xxmaj dee xxmaj williams , xxmaj jeff xxmaj conaway , xxmaj xxunk xxmaj xxunk and xxmaj tracy xxmaj scoggins - all of them have some manner of talent but here they all were in what basically adds up to a xxmaj cinemax - style skin flick set on board a spaceship ! \n",
              " \n",
              "  xxmaj sad as it is , \" xxmaj alien xxmaj intruder \" tries to be unique , with a computer virus / alien demon / xxunk / whatever else you want to call her named xxmaj ariel ( xxmaj scoggins ) xxunk this sort - of high - xxunk virtual reality station on board a spaceship where four men are allowed to live out their fantasies as the system is over - seen by their captain ( xxmaj williams ) . \n",
              " \n",
              "  xxmaj interesting ? xxmaj maybe , but here everything just plays out like a well - padded episode of \" xxmaj red xxmaj xxunk xxmaj xxunk \" . xxmaj williams out - classes everything right and left , and looks like he 'd rather be doing anything else , xxup anywhere else . xxmaj ah , the things people do for money xxrep 4 . \n",
              " \n",
              "  xxmaj the xxup fx are pretty static , maybe even less than what you 'd expect for a straight - to - video xxunk like this . xxmaj unfortunately , even the female nudity is less than you 'd expect . xxup sexual xxup xxunk is the real star here and , of course , it gets xxup all the best scenes . \n",
              " \n",
              "  xxmaj if you like a movie that 's all xxunk and no brains , check out \" xxmaj alien xxmaj intruder \" . xxmaj of course , you 'll probably have to look no further than xxmaj cinemax at 2 or 3 in the morning . \n",
              " \n",
              "  xxmaj no stars , not even for what star power this flick can muster . \n",
              " \n",
              "  xxmaj leave this one lost in space .,xxbos xxmaj before she went into politics or public service , xxmaj glenda xxmaj jackson was one of xxmaj britain 's finest film actresses . xxmaj this film displays her talent despite having a supporting role in a stellar cast that includes xxmaj julie xxmaj christie as xxmaj xxunk , the wife of a xxmaj british xxmaj royal xxmaj captain who has lost his memory of the last 20 years , and xxmaj xxunk played by xxmaj american xxmaj ann - xxmaj xxunk in an almost unrecognizable role as the xxunk sister . xxmaj alan xxmaj bates plays the captain who suffers from memory loss xxunk by the shell shock during xxmaj world xxmaj war xxup i. xxmaj sir xxmaj ian xxmaj xxunk has a smaller role as the doctor xxunk him . xxmaj you see familiar faces like xxmaj sheila xxmaj keith , xxmaj patsy xxmaj xxunk , and xxmaj frank xxmaj xxunk . xxmaj you ca n't help but watch xxmaj glenda play a xxunk housewife and the first true love of the xxmaj captain but they came from different classes . xxmaj it 's not the greatest movie but it 's good to see xxmaj glenda 's amazing talent . xxmaj she is still a fantastic actress , comedy or drama . xxmaj she makes xxmaj margaret xxmaj grey into a likable character and you see why a regal captain fell in love with her .,xxbos xxmaj one of the worst movies i 've ever seen . xxmaj acting was terrible , both for the kids and the adults . xxmaj most to all characters showed no , little or not enough emotion . xxmaj the lighting was terrible , and there were too many mess ups about the time of the day the film was shot ( xxmaj in the river scene where they just get their boat destroyed , there 's 4 shots ; xxmaj the sheriff and xxmaj dad in the evening on their boat , xxmaj xxunk and xxmaj molly in the evening swimming , the rest of the kids in the xxunk * when it 's supposed to in the evening * at the river bank , and the doctor , xxmaj xxunk , and xxmaj xxunk at night but not in the evening getting off their boat . ) xxmaj the best acting in the movie was probably from the sheriff , xxmaj cappy ( xxmaj although , there 's a xxunk of character when the pulse xxunk * xxmaj whatever that thing is when people die , it xxunk * shows xxmaj cappy has died , he still moves while it can still be heard xxunk , and while the nurse extra xxunk his pulse xxunk , then it shows the pulse again , and xxup then he finally dies . ) i guess it 's not going to be perfect , since it 's an independent movie , but it still could be better . xxmaj not worth watching , honestly , even for kids . xxmaj might as well watch something good , like xxmaj the xxmaj lion xxmaj king or xxmaj toy xxmaj story if you 're going to see anything you 'll remember .\n",
              "y: CategoryList\n",
              "positive,positive,negative,positive,negative\n",
              "Path: /root/.fastai/data/imdb_sample;\n",
              "\n",
              "Valid: LabelList (201 items)\n",
              "x: TextList\n",
              "xxbos xxup warning ! xxmaj this review will reveal the ending of the movie , \" xxmaj scoop . \" xxmaj if you do n't want to know how the movie ends , do n't read this review ! \n",
              " \n",
              "  \" xxmaj scoop \" is so bad you 'll think \" xxmaj annie xxmaj hall \" was a xxunk . \n",
              " \n",
              "  xxmaj it gets one star because you get to see xxmaj hugh xxmaj jackman 's naked chest . xxmaj that 's the only thing \" xxmaj scoop \" has going for it . \n",
              " \n",
              "  xxmaj woody xxmaj allen 's misogyny , and his xxunk on women young enough , at this point , to be his xxunk , has crippled any ability to make movies he may have had at any point . \n",
              " \n",
              "  xxmaj the plot seems promising : a ghost , xxmaj ian mcshane , directs a xxunk headed student , xxmaj scarlett xxmaj johansson , to investigate whether or not an xxmaj english xxmaj lord , xxmaj hugh xxmaj jackman , is the notorious xxmaj xxunk xxmaj xxunk xxmaj killer of prostitutes . a magician , xxmaj woody xxmaj allen , helps the girl . \n",
              " \n",
              "  xxmaj promising plot xxunk , the movie completely lacks charm , or humor , or atmosphere . xxmaj it 's an amazingly leaden , amateurish effort for someone who has made even one previous film , never mind dozens . xxmaj perhaps xxmaj allen has had a stroke that has gone xxunk in the press . \n",
              " \n",
              "  xxmaj much is made of the fact that unlike in his previous films , xxmaj woody xxmaj allen , now a xxunk , has xxup finally allowed a younger male lead to get the girl . \n",
              " \n",
              "  xxmaj not so . xxmaj in fact , the plot is constructed in such a way so that the girl gets no one . \n",
              " \n",
              "  xxmaj there is an early scene where xxmaj johansson , for no reason central to the movie , allows herself to be gotten drunk , and seduced , by a powerful , older director . \" xxmaj seduced \" is a xxunk for what happens . xxmaj it 's a \" xxunk , xxunk , i 've got ta go \" kind of moment . xxmaj it bears no relation to the plot whatsoever , and it xxunk xxmaj johansson in the viewer 's eye . xxmaj why did xxmaj allen add that unnecessary scene to the movie ? xxmaj because it shows a powerful director - like xxmaj allen - having sex with the female lead . xxmaj allen gets to have his cake and eat it , too . \n",
              " \n",
              "  xxmaj johansson is not yet an actress . xxmaj she does n't know how to xxunk the screen except by wearing a tight , low cut top . xxmaj she xxunk xxmaj allen in a couple of scenes , and that just looks weird and sad . \n",
              " \n",
              "  xxmaj it does n't help that her character is scripted as a doll who ca n't function without a ghost , or an elderly and less than awe - inspiring magician , telling her what to do at every turn . \n",
              " \n",
              "  xxmaj she is xxunk half xxmaj jackman 's age , and she comes across as a very vapid screen presence in their scenes together . \n",
              " \n",
              "  xxmaj audience members not obsessed with breasts deserve better in their heroines , and xxmaj jackman deserves better , too -- a script that gives the heroine some intelligence and agency , and an actress who can convey those qualities . \n",
              " \n",
              "  xxmaj hugh xxmaj jackman is similarly cheated by the script . xxmaj allen apparently ca n't stand it that xxmaj jackman is so stunningly good looking and young , and so he gives xxmaj jackman nothing to say or do . xxmaj like xxmaj johansson , he is used merely for his good looks . xxmaj this is a shame , because , as xxmaj jackman has shown in any number of productions , from \" xxmaj xxunk \" to \" x xxmaj men , \" he xxup can act . \n",
              " \n",
              "  xxmaj here 's the big plot twist -- xxmaj jackman , suave , charming xxmaj english xxmaj lord , really is a killer . xxmaj so , though the movie says it is all about letting someone else , other than xxmaj allen , get the girl , she does n't get anyone . xxmaj jackman , the man she 's been making love to , is a man who murdered a prostitute . xxmaj nice , xxmaj woody . xxmaj nice way to xxunk your heroine for being beyond your grasp . \n",
              " \n",
              "  xxmaj in a passive aggressive touch , xxmaj allen xxunk his heroine of his own presence , as well , killing off his character , the magician , leaving xxmaj scarlett xxmaj johansson all alone at the end of the film . \n",
              " \n",
              "  a final note : at my screening , not a single audience member laughed at any point during the film . xxmaj always a bad sign when a film is advertised as a comedy .,xxbos xxmaj harvey xxmaj xxunk 's best performance so far the new century . xxmaj very nicely photographed , a beautiful snap - shot of pre - xxmaj castro xxmaj cuba . xxmaj the story revolves around the nephew of a local minor crime boss who develops a friendship with an xxmaj american with xxmaj hollywood connections . xxmaj it 's really about the moment when a boy xxunk to the fact that the small circle of people he knows actually live in a much larger , much more complex world that he does n't yet xxunk script is strong and filled with humor , the direction is crisp . xxmaj over all , a really professional job that fits in well with the tradition of xxmaj xxunk xxmaj american cinema . xxmaj the one weakness is the decision to shoot in xxunk - sound xxmaj english rather than xxmaj spanish - probably to improve xxunk in the xxup us . xxmaj unfortunately , this just makes the film a little less convincing . xxmaj but if you can see beyond this , you will find a xxunk trip to another world . xxmaj recommended .,xxbos i rented the dubbed - xxmaj english version of xxmaj xxunk , hoping that since it came from well - known novels it would have some substance . xxmaj while there were hints of substance in the movie , it mostly did n't rise above the level of xxunk cartoon . xxmaj maybe the movie was a bad adaptation of the book , or it lost a lot in the dubbed version . xxmaj or maybe even the source novels were xxunk . xxmaj but for whatever reason , there was n't much there . \n",
              " \n",
              "  i noticed lots of details that were xxunk , sloppy , poorly xxunk , or otherwise xxunk . xxmaj some examples : xxmaj the opening scenes looked borrowed from the 2001 \" star gate \" scene and the xxmaj star xxmaj wars image of xxunk . xxmaj the robot on the xxunk looked like an xxunk \" xxup xxunk \" . \n",
              " \n",
              "  xxmaj it starts out trying to borrow its comic relief style of xxmaj star xxmaj wars , but xxunk ( since the humor does n't work ) gives up on comedy and plays it serious . xxmaj in that sense , it 's superior to the xxmaj star xxmaj wars franchise , which started with a clever sense of humor , and eventually xxunk to xxmaj jar - xxmaj jar 's annoying silliness . \n",
              " \n",
              "  xxmaj the agricultural details were apparently drawn by someone who had never seen a farm . xxmaj the xxunk was driving through the xxunk middle of a field , xxunk xxunk onto xxunk xxunk , rather than working from one side to the other and xxunk the xxunk onto already - xxunk xxunk or into a xxunk . xxmaj xxunk ( xxunk ) was xxunk out the xxunk xxunk , but the farm lands were drawn like a wheat field . \n",
              " \n",
              "  xxmaj when it was time for xxmaj kim 's father had to face his fate , there was n't any dramatic weight to the scene . xxmaj that could have been xxunk the fault of the xxmaj english - language voice actor , but the drawings did n't show much weight either . xxmaj kim 's reactions in that scene were similarly unconvincing . \n",
              " \n",
              "  xxmaj similarly , when a character named xxmaj henderson was killed , xxmaj chris showed very little reaction , even though they were apparently supposed to have been close . ( xxmaj henderson 's death is no spoiler ; his name is n't revealed until his death scene . ) xxmaj she seems to promptly forget him . xxmaj someone 's expression of sympathy shows more feeling than she does . i think the voice actor deserves most of the blame in that case ; there 's at least a hint of feeling in the drawings of xxmaj chris . \n",
              " \n",
              "  xxmaj on several occasions , villains fail to accomplish their orders . a villain leader often xxunk those failures with miserable deaths . i ca n't say whether that 's lifted from xxmaj star xxmaj wars , or if that comes from an earlier source -- possibly the xxmaj xxunk books . \n",
              " \n",
              "  xxmaj there 's a scene where a space ship crash - lands . xxmaj as it xxunk toward the ground , parts are break off the ship . xxmaj but so many pieces are fall off that there should be nothing left of it by the time it lands . \n",
              " \n",
              "  xxmaj while in most cases xxmaj chris seems like a competent , tough space hero , there 's a scene where she xxunk like an incompetent damsel in distress . xxmaj someone tough enough to get over xxmaj henderson 's death so quickly should at least be able to xxunk , \" help , it 's got me and i ca n't reach my gun ! \" instead of just xxunk . \n",
              " \n",
              "  xxmaj the character with the most personality ( almost too much at times ) is xxup xxunk xxmaj bill . xxmaj he sounded like xxmaj xxunk xxmaj jack , the xxup xxunk in xxmaj american xxmaj xxunk . i wonder if he 's as well - xxunk in the original language . \n",
              " \n",
              "  xxmaj two xxunk in the movie xxunk . xxmaj the explosions were xxunk , and appeared to xxunk a lot of inspiration to xxmaj star xxmaj wars . xxmaj to its credit , however , the cause of the explosion was completely unlike the xxmaj death xxmaj star 's primary weapon . xxmaj the dialog had a good , interesting explanation for the cause . xxmaj many other explosions in the movie did look good , just not the xxunk explosions . \n",
              " \n",
              "  xxmaj some of the sound effects are very cheesy , as if borrowed from a late 1970s video game . xxmaj some of the images look like primitive video games , and some influence from xxmaj xxunk is visible too . xxmaj on the other hand , the sound effects are often pretty decent , although that xxunk the cheesy - sounding parts . xxmaj the art is good too , particularly when it stays away from the often cheesy - looking computer graphics . \n",
              " \n",
              "  xxmaj finally , there 's the story . xxmaj if a movie tells a good story , it can get away with a lot of production shortcomings . xxmaj but the plot here was pretty xxunk . a xxunk boy tries to help someone on a crippled space ship , and xxunk a great power he does n't understand . xxmaj he and his band of very xxunk xxunk struggle against a powerful , xxunk evil enemy . xxmaj he makes friends , learns about his special power , and grows into a young man . xxmaj if he is xxunk and xxunk enough , he might even defeat the evil enemy . xxmaj details along the way can make such a story rise above the simple outline , but there 's very little more than that in this movie . \n",
              " \n",
              "  xxmaj in the end , it 's just a xxunk cartoon . xxmaj but then , since it looks like the primary intended audience is older children , maybe it does n't need to be anything more than that .,xxbos xxmaj this was the best documentary i 've ever seen ! ! i just saw xxmaj xxunk of xxmaj dogtown and wanted to know more about xxmaj stacy xxmaj peralta , and was surprised and happy to find out this was one of his films as well . xxmaj great xxmaj job xxmaj stacy ! i was kicking back at work last week , bored xxmaj xxunk and this movie came on . xxmaj growing up in xxmaj orange xxmaj county in the 80 's i surfed up and down the local xxunk and so did my dad when he was a teenager . i grew up at the beach , my parents took me every weekend , i body surfed , xxunk then moved up from there . xxmaj this movie just captivated me . xxmaj it was way before my time but it was awesome to see what these guys went through .. xxup true xxup pioneers ! xxmaj this movie is a collectors item .,xxbos xxmaj it 's terrific when a funny movie does n't make smile you . xxmaj what a pity ! ! xxmaj this film is very boring and so long . xxmaj it 's simply xxunk . xxmaj the story is staggering without goal and no fun . \n",
              " \n",
              "  xxmaj you feel better when it 's finished .\n",
              "y: CategoryList\n",
              "negative,positive,negative,positive,negative\n",
              "Path: /root/.fastai/data/imdb_sample;\n",
              "\n",
              "Test: None, model=SequentialRNN(\n",
              "  (0): MultiBatchEncoder(\n",
              "    (module): AWD_LSTM(\n",
              "      (encoder): Embedding(8856, 400, padding_idx=1)\n",
              "      (encoder_dp): EmbeddingDropout(\n",
              "        (emb): Embedding(8856, 400, padding_idx=1)\n",
              "      )\n",
              "      (rnns): ModuleList(\n",
              "        (0): WeightDropout(\n",
              "          (module): LSTM(400, 1152, batch_first=True)\n",
              "        )\n",
              "        (1): WeightDropout(\n",
              "          (module): LSTM(1152, 1152, batch_first=True)\n",
              "        )\n",
              "        (2): WeightDropout(\n",
              "          (module): LSTM(1152, 400, batch_first=True)\n",
              "        )\n",
              "      )\n",
              "      (input_dp): RNNDropout()\n",
              "      (hidden_dps): ModuleList(\n",
              "        (0): RNNDropout()\n",
              "        (1): RNNDropout()\n",
              "        (2): RNNDropout()\n",
              "      )\n",
              "    )\n",
              "  )\n",
              "  (1): PoolingLinearClassifier(\n",
              "    (layers): Sequential(\n",
              "      (0): BatchNorm1d(1200, eps=1e-05, momentum=0.1, affine=True, track_running_stats=True)\n",
              "      (1): Dropout(p=0.2)\n",
              "      (2): Linear(in_features=1200, out_features=50, bias=True)\n",
              "      (3): ReLU(inplace)\n",
              "      (4): BatchNorm1d(50, eps=1e-05, momentum=0.1, affine=True, track_running_stats=True)\n",
              "      (5): Dropout(p=0.1)\n",
              "      (6): Linear(in_features=50, out_features=2, bias=True)\n",
              "    )\n",
              "  )\n",
              "), opt_func=functools.partial(<class 'torch.optim.adam.Adam'>, betas=(0.9, 0.99)), loss_func=FlattenedLoss of CrossEntropyLoss(), metrics=[<function accuracy at 0x7f211aed16a8>], true_wd=True, bn_wd=True, wd=0.01, train_bn=True, path=PosixPath('/root/.fastai/data/imdb_sample'), model_dir='models', callback_fns=[functools.partial(<class 'fastai.basic_train.Recorder'>, add_time=True, silent=False)], callbacks=[...], layer_groups=[Sequential(\n",
              "  (0): Embedding(8856, 400, padding_idx=1)\n",
              "  (1): EmbeddingDropout(\n",
              "    (emb): Embedding(8856, 400, padding_idx=1)\n",
              "  )\n",
              "), Sequential(\n",
              "  (0): WeightDropout(\n",
              "    (module): LSTM(400, 1152, batch_first=True)\n",
              "  )\n",
              "  (1): RNNDropout()\n",
              "), Sequential(\n",
              "  (0): WeightDropout(\n",
              "    (module): LSTM(1152, 1152, batch_first=True)\n",
              "  )\n",
              "  (1): RNNDropout()\n",
              "), Sequential(\n",
              "  (0): WeightDropout(\n",
              "    (module): LSTM(1152, 400, batch_first=True)\n",
              "  )\n",
              "  (1): RNNDropout()\n",
              "), Sequential(\n",
              "  (0): PoolingLinearClassifier(\n",
              "    (layers): Sequential(\n",
              "      (0): BatchNorm1d(1200, eps=1e-05, momentum=0.1, affine=True, track_running_stats=True)\n",
              "      (1): Dropout(p=0.2)\n",
              "      (2): Linear(in_features=1200, out_features=50, bias=True)\n",
              "      (3): ReLU(inplace)\n",
              "      (4): BatchNorm1d(50, eps=1e-05, momentum=0.1, affine=True, track_running_stats=True)\n",
              "      (5): Dropout(p=0.1)\n",
              "      (6): Linear(in_features=50, out_features=2, bias=True)\n",
              "    )\n",
              "  )\n",
              ")], add_time=True, silent=False, cb_fns_registered=False)\n",
              "loss_scale: 65536\n",
              "max_noskip: 1000\n",
              "dynamic: True\n",
              "clip: None\n",
              "flat_master: False\n",
              "max_scale: 16777216], layer_groups=[Sequential(\n",
              "  (0): Embedding(8856, 400, padding_idx=1)\n",
              "  (1): EmbeddingDropout(\n",
              "    (emb): Embedding(8856, 400, padding_idx=1)\n",
              "  )\n",
              "), Sequential(\n",
              "  (0): WeightDropout(\n",
              "    (module): LSTM(400, 1152, batch_first=True)\n",
              "  )\n",
              "  (1): RNNDropout()\n",
              "), Sequential(\n",
              "  (0): WeightDropout(\n",
              "    (module): LSTM(1152, 1152, batch_first=True)\n",
              "  )\n",
              "  (1): RNNDropout()\n",
              "), Sequential(\n",
              "  (0): WeightDropout(\n",
              "    (module): LSTM(1152, 400, batch_first=True)\n",
              "  )\n",
              "  (1): RNNDropout()\n",
              "), Sequential(\n",
              "  (0): PoolingLinearClassifier(\n",
              "    (layers): Sequential(\n",
              "      (0): BatchNorm1d(1200, eps=1e-05, momentum=0.1, affine=True, track_running_stats=True)\n",
              "      (1): Dropout(p=0.2)\n",
              "      (2): Linear(in_features=1200, out_features=50, bias=True)\n",
              "      (3): ReLU(inplace)\n",
              "      (4): BatchNorm1d(50, eps=1e-05, momentum=0.1, affine=True, track_running_stats=True)\n",
              "      (5): Dropout(p=0.1)\n",
              "      (6): Linear(in_features=50, out_features=2, bias=True)\n",
              "    )\n",
              "  )\n",
              ")], add_time=True, silent=False, cb_fns_registered=False)"
            ]
          },
          "metadata": {
            "tags": []
          },
          "execution_count": 17
        }
      ]
    },
    {
      "cell_type": "code",
      "metadata": {
        "id": "eI2Bo-luhwvw",
        "colab_type": "code",
        "colab": {
          "base_uri": "https://localhost:8080/",
          "height": 289
        },
        "outputId": "e98daf8a-166a-434b-962e-6ad32e019507"
      },
      "source": [
        "data_clas.show_batch()"
      ],
      "execution_count": 18,
      "outputs": [
        {
          "output_type": "display_data",
          "data": {
            "text/html": [
              "<table border=\"1\" class=\"dataframe\">\n",
              "  <thead>\n",
              "    <tr style=\"text-align: right;\">\n",
              "      <th>text</th>\n",
              "      <th>target</th>\n",
              "    </tr>\n",
              "  </thead>\n",
              "  <tbody>\n",
              "    <tr>\n",
              "      <td>xxbos xxmaj raising xxmaj victor xxmaj vargas : a xxmaj review \\n \\n  xxmaj you know , xxmaj raising xxmaj victor xxmaj vargas is like sticking your hands into a big , steaming bowl of xxunk . xxmaj it 's warm and gooey , but you 're not sure if it feels right . xxmaj try as i might , no matter how warm and gooey xxmaj raising xxmaj</td>\n",
              "      <td>negative</td>\n",
              "    </tr>\n",
              "    <tr>\n",
              "      <td>xxbos xxup the xxup shop xxup around xxup the xxup corner is one of the sweetest and most feel - good romantic comedies ever made . xxmaj there 's just no getting around that , and it 's hard to actually put one 's feeling for this film into words . xxmaj it 's not one of those films that tries too hard , nor does it come up with</td>\n",
              "      <td>positive</td>\n",
              "    </tr>\n",
              "    <tr>\n",
              "      <td>xxbos xxmaj now that xxmaj che(2008 ) has finished its relatively short xxmaj australian cinema run ( extremely limited xxunk screen in xxmaj sydney , after xxunk ) , i can xxunk join both xxunk of \" xxmaj at xxmaj the xxmaj movies \" in taking xxmaj steven xxmaj soderbergh to task . \\n \\n  xxmaj it 's usually satisfying to watch a film director change his style /</td>\n",
              "      <td>negative</td>\n",
              "    </tr>\n",
              "    <tr>\n",
              "      <td>xxbos xxmaj this film sat on my xxmaj xxunk for weeks before i watched it . i xxunk a self - indulgent xxunk flick about relationships gone bad . i was wrong ; this was an xxunk xxunk into the screwed - up xxunk of xxmaj new xxmaj xxunk . \\n \\n  xxmaj the format is the same as xxmaj max xxmaj xxunk ' \" xxmaj la xxmaj xxunk</td>\n",
              "      <td>positive</td>\n",
              "    </tr>\n",
              "    <tr>\n",
              "      <td>xxbos xxmaj many neglect that this is n't just a classic due to the fact that it 's the first xxup 3d game , or even the first xxunk - up . xxmaj it 's also one of the first xxunk games , one of the xxunk definitely the first ) truly claustrophobic games , and just a pretty well - xxunk xxunk experience in general . xxmaj with graphics</td>\n",
              "      <td>positive</td>\n",
              "    </tr>\n",
              "  </tbody>\n",
              "</table>"
            ],
            "text/plain": [
              "<IPython.core.display.HTML object>"
            ]
          },
          "metadata": {
            "tags": []
          }
        }
      ]
    },
    {
      "cell_type": "code",
      "metadata": {
        "id": "G9qx9UpUhwv1",
        "colab_type": "code",
        "colab": {
          "base_uri": "https://localhost:8080/",
          "height": 80
        },
        "outputId": "b272d292-6b54-4d78-d228-900f4f619285"
      },
      "source": [
        "learn.fit_one_cycle(1, 1e-2)"
      ],
      "execution_count": 19,
      "outputs": [
        {
          "output_type": "display_data",
          "data": {
            "text/html": [
              "<table border=\"1\" class=\"dataframe\">\n",
              "  <thead>\n",
              "    <tr style=\"text-align: left;\">\n",
              "      <th>epoch</th>\n",
              "      <th>train_loss</th>\n",
              "      <th>valid_loss</th>\n",
              "      <th>accuracy</th>\n",
              "      <th>time</th>\n",
              "    </tr>\n",
              "  </thead>\n",
              "  <tbody>\n",
              "    <tr>\n",
              "      <td>0</td>\n",
              "      <td>0.561259</td>\n",
              "      <td>0.585351</td>\n",
              "      <td>0.815920</td>\n",
              "      <td>00:03</td>\n",
              "    </tr>\n",
              "  </tbody>\n",
              "</table>"
            ],
            "text/plain": [
              "<IPython.core.display.HTML object>"
            ]
          },
          "metadata": {
            "tags": []
          }
        }
      ]
    },
    {
      "cell_type": "markdown",
      "metadata": {
        "id": "rODC5m2bhwv6",
        "colab_type": "text"
      },
      "source": [
        "Again, we can unfreeze the model and fine-tune it."
      ]
    },
    {
      "cell_type": "code",
      "metadata": {
        "id": "eT9iiShshwv7",
        "colab_type": "code",
        "colab": {
          "base_uri": "https://localhost:8080/",
          "height": 142
        },
        "outputId": "8107afa1-e115-4eef-e39f-864289be4c12"
      },
      "source": [
        "learn.unfreeze()\n",
        "learn.fit_one_cycle(3, slice(1e-4, 1e-2))"
      ],
      "execution_count": 20,
      "outputs": [
        {
          "output_type": "display_data",
          "data": {
            "text/html": [
              "<table border=\"1\" class=\"dataframe\">\n",
              "  <thead>\n",
              "    <tr style=\"text-align: left;\">\n",
              "      <th>epoch</th>\n",
              "      <th>train_loss</th>\n",
              "      <th>valid_loss</th>\n",
              "      <th>accuracy</th>\n",
              "      <th>time</th>\n",
              "    </tr>\n",
              "  </thead>\n",
              "  <tbody>\n",
              "    <tr>\n",
              "      <td>0</td>\n",
              "      <td>0.480501</td>\n",
              "      <td>0.425361</td>\n",
              "      <td>0.860696</td>\n",
              "      <td>00:06</td>\n",
              "    </tr>\n",
              "    <tr>\n",
              "      <td>1</td>\n",
              "      <td>0.419259</td>\n",
              "      <td>0.296872</td>\n",
              "      <td>0.895522</td>\n",
              "      <td>00:06</td>\n",
              "    </tr>\n",
              "    <tr>\n",
              "      <td>2</td>\n",
              "      <td>0.346652</td>\n",
              "      <td>0.284486</td>\n",
              "      <td>0.900497</td>\n",
              "      <td>00:07</td>\n",
              "    </tr>\n",
              "  </tbody>\n",
              "</table>"
            ],
            "text/plain": [
              "<IPython.core.display.HTML object>"
            ]
          },
          "metadata": {
            "tags": []
          }
        }
      ]
    },
    {
      "cell_type": "markdown",
      "metadata": {
        "id": "wgKyJ_hahwv-",
        "colab_type": "text"
      },
      "source": [
        "Again, we can predict on a raw text by using the [`Learner.predict`](/basic_train.html#Learner.predict) method."
      ]
    },
    {
      "cell_type": "code",
      "metadata": {
        "id": "acpcnJzDhwwA",
        "colab_type": "code",
        "colab": {
          "base_uri": "https://localhost:8080/",
          "height": 34
        },
        "outputId": "17da2533-6af6-4105-da95-ec4aac34cafb"
      },
      "source": [
        "learn.predict(\"This was a great movie!\")"
      ],
      "execution_count": 21,
      "outputs": [
        {
          "output_type": "execute_result",
          "data": {
            "text/plain": [
              "(Category positive, tensor(1), tensor([0.0012, 0.9988]))"
            ]
          },
          "metadata": {
            "tags": []
          },
          "execution_count": 21
        }
      ]
    },
    {
      "cell_type": "code",
      "metadata": {
        "id": "Ux9rUe_phwwF",
        "colab_type": "code",
        "colab": {}
      },
      "source": [
        ""
      ],
      "execution_count": 0,
      "outputs": []
    }
  ]
}